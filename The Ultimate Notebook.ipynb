{
 "cells": [
  {
   "cell_type": "markdown",
   "metadata": {},
   "source": [
    "In this notebook you will find a lot of necessary functions, methods, commands to go through an EDA (Exploratory Data Analysis). \n",
    "\n",
    "Please feel free to give your point of view or even ask to add the one that I miss.\n",
    "\n",
    "\n",
    "\n",
    "@author: MM"
   ]
  },
  {
   "cell_type": "markdown",
   "metadata": {},
   "source": [
    "# Data exploration"
   ]
  },
  {
   "cell_type": "markdown",
   "metadata": {},
   "source": [
    "All the import used below supposed that you already have install the library corresponding.\n",
    "\n",
    "**What is Pandas?**\n",
    "\n",
    "Pandas is a data science library that allows us to load data and play with them. \n",
    "\n",
    "* Pandas uses dataframes (df) which we can think of as tables. \n",
    "* We can perform functions on the rows or columns.\n",
    "* Pandas also has some visualization tools"
   ]
  },
  {
   "cell_type": "code",
   "execution_count": null,
   "metadata": {},
   "outputs": [],
   "source": [
    "import pandas as pd \n",
    "\n",
    "# read in data from workign directory (folder in top right)\n",
    "# can read other file format \n",
    "df = pd.read_csv(\"/Users/YourFolder/YourData.csv\")\n",
    "\n",
    "# shape of your df (DataFrame)\n",
    "df.shape\n",
    "\n",
    "# returns x number of rows when head(num)\n",
    "df.head() # or df.tail()\n",
    "\n",
    "# returns an object with all of the column headers \n",
    "df.columns\n",
    "\n",
    "# basic info \n",
    "df.info()\n",
    "\n",
    "# statistics on numeric columns\n",
    "df.describe()\n",
    "\n",
    "# shows type of data (float, int, string, bool, etc.)\n",
    "df.dtypes\n",
    "\n",
    "# view all rows for one column\n",
    "df.column_name\n",
    "# or \n",
    "df[\"column_name\"]\n",
    "\n",
    "# view all columns for select group of rows\n",
    "df[0:10]\n",
    "\n",
    "# filter for multiple columns (all below do the same thing ) \n",
    "df[[\"columnA\", \"columnB\", \"columnC\"]]\n",
    "df.loc[:,[\"columnA\", \"columnB\", \"columnC\"]]\n",
    "df.iloc[:,0:3]\n",
    "\n",
    "# filter by rows and columns \n",
    "df.loc[0:100,[\"columnA\", \"columnB\", \"columnC\"]]\n",
    "df.iloc[0:100,0:3]\n",
    "\n",
    "# filter by column list \n",
    "df[df.columns]\n",
    "\n",
    "# filter data by columns \n",
    "df[(df[\"column\"] < 5)]"
   ]
  },
  {
   "cell_type": "code",
   "execution_count": null,
   "metadata": {},
   "outputs": [],
   "source": [
    "# for numerical variables \n",
    "\n",
    "# shows which values are null\n",
    "df.isnull()\n",
    "\n",
    "# shows which columns have null values\n",
    "df.isnull().any()\n",
    "\n",
    "# shows for each column the percentage of null values \n",
    "df.isnull().sum() / df.shape[0]"
   ]
  },
  {
   "cell_type": "code",
   "execution_count": null,
   "metadata": {},
   "outputs": [],
   "source": [
    "# for categorical variables \n",
    "\n",
    "# check unique values in the column columnA\n",
    "df.columnA.unique()\n",
    "\n",
    "# shows the counts\n",
    "df.columnA.value_counts()\n",
    "# or\n",
    "len(df[\"columnA\"].unique())\n",
    "\n",
    "#shows the percentage of values from \n",
    "df.columnA.value_counts()/ df.columnA.notnull().sum()"
   ]
  },
  {
   "cell_type": "code",
   "execution_count": null,
   "metadata": {},
   "outputs": [],
   "source": [
    "# another way to have a quick data exploration in one line\n",
    "# generates profile reports from a pandas DataFrame\n",
    "from pandas_profiling import ProfileReport\n",
    "\n",
    "profile = ProfileReport(df, title='Pandas Profiling Report', explorative=True)"
   ]
  },
  {
   "cell_type": "markdown",
   "metadata": {},
   "source": [
    "# Data Cleaning"
   ]
  },
  {
   "cell_type": "code",
   "execution_count": null,
   "metadata": {},
   "outputs": [],
   "source": [
    "# check for nulls / % of nulls \n",
    "df.isnull().any()\n",
    "df.isnull().sum()/ df.shape[0]\n",
    "\n",
    "# imputing nulls fillna()\n",
    "df[[column a, column b]].fillna(value=0) # value, or mean or median"
   ]
  },
  {
   "cell_type": "code",
   "execution_count": null,
   "metadata": {},
   "outputs": [],
   "source": [
    "# remove duplicates \n",
    "df.drop_duplicates(inplace= True)\n",
    "\n",
    "# drop  \n",
    "df.drop(\"columnA\", axis = 1) # inplace = True\n",
    "\n",
    "# remove columns with certain threshold of nulls\n",
    "# threshold is the number of columns or rows without nulls \n",
    "thresh = len(df)*.6\n",
    "df.dropna(thresh = thresh, axis = 1)\n",
    "df.dropna(thresh = 21, axis = 0)\n",
    "\n",
    "# add column \n",
    "df[\"new_column_price_per_sqfeet\"] = df[\"price\"] / df[\"sqfeet\"]"
   ]
  },
  {
   "cell_type": "code",
   "execution_count": null,
   "metadata": {},
   "outputs": [],
   "source": [
    "# pass everything lower or uppercase\n",
    "df.apply(lambda x: x.lower()) # upper()"
   ]
  },
  {
   "cell_type": "code",
   "execution_count": null,
   "metadata": {},
   "outputs": [],
   "source": [
    "# use regex .extract, strip(), replace(), split()\n",
    "df.column = df.column.apply(lambda x: str(x).replace(\"something\",\"\").strip())\n",
    "df.column.value_counts()"
   ]
  },
  {
   "cell_type": "code",
   "execution_count": null,
   "metadata": {},
   "outputs": [],
   "source": [
    "# find numeric column \n",
    "numeric = df._get_numeric_data()"
   ]
  },
  {
   "cell_type": "code",
   "execution_count": null,
   "metadata": {},
   "outputs": [],
   "source": [
    "# change data type\n",
    "df.column.dtype\n",
    "df.column = pd.to_numeric(df.column, errors = 'coerce')"
   ]
  },
  {
   "cell_type": "code",
   "execution_count": null,
   "metadata": {},
   "outputs": [],
   "source": [
    "# rename columns \n",
    "df.rename(index=str,columns={\"url\":\"new_url\"})"
   ]
  },
  {
   "cell_type": "code",
   "execution_count": null,
   "metadata": {},
   "outputs": [],
   "source": [
    "# apply function\n",
    "\n",
    "def timex2(x):\n",
    "    return 2*x\n",
    "\n",
    "df[\"pricex2\"] = data[\"price\"].apply(timex2)"
   ]
  },
  {
   "cell_type": "code",
   "execution_count": null,
   "metadata": {},
   "outputs": [],
   "source": [
    "# lambda function\n",
    "\n",
    "df[\"pricex2\"] = df[\"price\"].apply(lambda x: x*2)\n",
    "\n",
    "# check where an appartement is bigger 200sqfeet for less than 500€/month \n",
    "df[\"bigandcheap\"] = data[[\"price\",\"sqfeet\"]].apply(lambda x: 'yes' if x[0] < 500 and x[1] > 200 else 'no', axis = 1)\n"
   ]
  },
  {
   "cell_type": "code",
   "execution_count": null,
   "metadata": {},
   "outputs": [],
   "source": [
    "# dummy variables (create dummy variables for categorical features)\n",
    "df_dummies = pd.get_dummies(df[[\"catcolumnA\", \"catcolumnB\", \"catcolumnC\"]])"
   ]
  },
  {
   "cell_type": "code",
   "execution_count": null,
   "metadata": {},
   "outputs": [],
   "source": [
    "# merge df  \n",
    "df1 = data[[\"columnA\", \"columnB\"]]\n",
    "df2 = data[[\"columnA\", \"columnC\"]]\n",
    "\n",
    "df_merged = pd.merge(df1, df2, on=\"columnA\")"
   ]
  },
  {
   "cell_type": "code",
   "execution_count": null,
   "metadata": {},
   "outputs": [],
   "source": [
    "# group by \n",
    "df.groupby([\"columnA\", \"columnB\"]).mean()"
   ]
  },
  {
   "cell_type": "markdown",
   "metadata": {},
   "source": [
    "# Visualization tools"
   ]
  },
  {
   "cell_type": "code",
   "execution_count": null,
   "metadata": {},
   "outputs": [],
   "source": [
    "# histogram \n",
    "df.column.hist() == df.column.plot(kind='hist')\n",
    "\n",
    "# bar chart \n",
    "df.column.value_counts().plot(kind='bar')\n",
    "\n",
    "# boxplot \n",
    "df.boxplot(\"column_name\")"
   ]
  }
 ],
 "metadata": {
  "kernelspec": {
   "display_name": "Python 3.6.9 64-bit ('base': conda)",
   "language": "python",
   "name": "python36964bitbasecondad61e9689d35547228a9c10a85faae066"
  },
  "language_info": {
   "codemirror_mode": {
    "name": "ipython",
    "version": 3
   },
   "file_extension": ".py",
   "mimetype": "text/x-python",
   "name": "python",
   "nbconvert_exporter": "python",
   "pygments_lexer": "ipython3",
   "version": "3.6.10"
  },
  "toc": {
   "base_numbering": 1,
   "nav_menu": {},
   "number_sections": true,
   "sideBar": true,
   "skip_h1_title": false,
   "title_cell": "Table of Contents",
   "title_sidebar": "Contents",
   "toc_cell": false,
   "toc_position": {},
   "toc_section_display": true,
   "toc_window_display": false
  }
 },
 "nbformat": 4,
 "nbformat_minor": 4
}
